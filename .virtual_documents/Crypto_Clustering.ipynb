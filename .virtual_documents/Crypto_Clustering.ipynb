# Import required libraries and dependencies
import pandas as pd
import hvplot.pandas
import numpy as np
from sklearn.cluster import KMeans
from sklearn.decomposition import PCA
from sklearn.preprocessing import StandardScaler


# Load the data into a Pandas DataFrame
df_market_data = pd.read_csv(
    "Resources/crypto_market_data.csv",
    index_col="coin_id")

# Display sample data
df_market_data.head(10)


# Generate summary statistics
df_market_data.describe()


# Plot your data to see what's in your DataFrame
df_market_data.hvplot.line(
    width=800,
    height=400,
    rot=90
)








# Use the `StandardScaler()` module from scikit-learn to normalize the data from the CSV file
scaler = StandardScaler()
scaled_data = scaler.fit_transform(df_market_data)


# Create a DataFrame with the scaled data
scaled_df = pd.DataFrame(scaled_data, columns=df_market_data.columns)

# Copy the crypto names from the original data
scaled_df['coin_id'] = df_market_data.index

# Set the coinid column as index
scaled_df.set_index('coin_id', inplace=True)

# Display sample data
scaled_df.head()








# Create a list with the number of k-values from 1 to 11
k = list(range(1, 11))


# Create an empty list to store the inertia values
inertia = []

# Create a for loop to compute the inertia with each possible value of k
for i in k:
    # Create a KMeans model using the loop counter for the n_clusters
    k_model = KMeans(n_clusters=i, random_state=0)
    
    # Fit the model to the scaled data
    k_model.fit(scaled_df)
    
    # Append the model.inertia_ to the inertia list
    inertia.append(k_model.inertia_)



# Create a dictionary with the data to plot the Elbow curve
elbow_data = {'k': k, 'inertia': inertia}

# Create a DataFrame with the data to plot the Elbow curve
df_elbow = pd.DataFrame(elbow_data)

df_elbow.head()


# Plot a line chart with all the inertia values computed with 
# the different values of k to visually identify the optimal value for k.
original_elbow_plot = df_elbow.hvplot.line(
    x='k',
    y='inertia',
    xlabel='k',
    ylabel='Inertia',
    title='Elbow Curve: Finding Optimal Value for k',
    xticks=k,
    grid=True,
    height=400,
    width=600)

original_elbow_plot











# Initialize the K-Means model using the best value for k
k=4
kmeans = KMeans(n_clusters=k, random_state=0)


# Fit the K-Means model using the scaled data
kmeans.fit(scaled_df)


# Predict the clusters to group the cryptocurrencies using the scaled data
clusters = kmeans.predict(scaled_df)

# Print the resulting array of cluster values.
print(clusters)


# Create a copy of the DataFrame
df_clustered = df_market_data.copy()


# Add a new column to the DataFrame with the predicted clusters
df_clustered['Cluster'] = clusters

# Display sample data
print(df_clustered.head())
print(df_clustered.columns)


# Create a scatter plot using hvPlot by setting 
# `x="price_change_percentage_24h"` and `y="price_change_percentage_7d"`. 
# Color the graph points with the labels found using K-Means and 
# add the crypto name in the `hover_cols` parameter to identify 
# the cryptocurrency represented by each data point.
original_clustered = df_clustered.hvplot.scatter(
    x='price_change_percentage_24h',
    y='price_change_percentage_7d',
    by='Cluster',
    hover_cols=['coin_id'],
    title='Cryptocurrency Clusters')

original_clustered









# Create a PCA model instance and set `n_components=3`.
pca = PCA(n_components=3)


# Use the PCA model with `fit_transform` to reduce to 
# three principal components.
df_pca = pca.fit_transform(scaled_df)

# View the first five rows of the DataFrame. 
print(df_pca[:5])


# Retrieve the explained variance to determine how much information 
# can be attributed to each principal component.
explained_variance = pca.explained_variance_ratio_

total_explained_variance = sum(explained_variance)
print(total_explained_variance)






# Create a new DataFrame with the PCA data.
df_pca = pd.DataFrame(df_pca, columns=['PC1', 'PC2', 'PC3'])

# Copy the crypto names from the original data
df_pca['coin_id'] = df_market_data.index

# Set the coinid column as index
df_pca.set_index('coin_id', inplace=True)

# Display sample data
print(df_pca.head())








# Create a list with the number of k-values from 1 to 11
k = list(range(1,11))


# Create an empty list to store the inertia values
inertia = []

# Create a for loop to compute the inertia with each possible value of k
for i in k:
    # 1. Create a KMeans model using the loop counter for the n_clusters
    k_model = KMeans(n_clusters=i, random_state=0)
    # 2. Fit the model to the data using the pca df
    k_model.fit(df_pca)
    # 3. Append the model.inertia_ to the inertia list
    inertia.append(k_model.inertia_)


# Create a dictionary with the data to plot the Elbow curve
elbow_data = {'k': k, 'inertia': inertia}

# Create a DataFrame with the data to plot the Elbow curve
df_elbow = pd.DataFrame(elbow_data)

df_elbow.head()


# Plot a line chart with all the inertia values computed with 
# the different values of k to visually identify the optimal value for k.
pca_elbow_plot = df_elbow.hvplot.line(
    x='k',
    y='inertia',
    xlabel='k',
    ylabel='Inertia',
    title='Elbow Curve: Finding Optimal Value for k Using PCA Values',
    xticks=k,
    grid=True,
    height=400,
    width=600)

pca_elbow_plot








# Initialize the K-Means model using the best value for k
k=4
kmeans = KMeans(n_clusters=k, random_state=0)


# Fit the K-Means model using the PCA data
kmeans.fit(df_pca)


# Predict the clusters to group the cryptocurrencies using the PCA data
clusters = kmeans.predict(df_pca)

# Print the resulting array of cluster values.
print(clusters)


# Create a copy of the DataFrame with the PCA data
df_clustered = df_pca.copy()

# Add a new column to the DataFrame with the predicted clusters
df_clustered['Cluster'] = clusters

# Display sample data
print(df_clustered.head())


# Create a scatter plot using hvPlot by setting 
# `x="PC1"` and `y="PC2"`. 
# Color the graph points with the labels found using K-Means and 
# add the crypto name in the `hover_cols` parameter to identify 
# the cryptocurrency represented by each data point.
pca_cluster = df_clustered.hvplot.scatter(
    x='PC1',
    y='PC2',
    by='Cluster',
    hover_cols=['coin_id'],
    title='Cryptocurrency Clusters Using PCA Values'
)

pca_cluster





# Composite plot to contrast the Elbow curves
composite_elbow_plot = original_elbow_plot + pca_elbow_plot

composite_elbow_plot


# Composite plot to contrast the clusters
composite_cluster_plot = original_clustered + pca_cluster

composite_cluster_plot



